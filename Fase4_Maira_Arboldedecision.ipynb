{
 "cells": [
  {
   "cell_type": "raw",
   "id": "3955ad21-81c0-4dec-89e3-d62df674cc65",
   "metadata": {},
   "source": [
    "PARA EL DESARROLLO DE ESTA FASE 4 SE VA A REALIZAR EN PYTHON EN JUPYTERLAB.\n",
    "DONDE CREAMOS UN CODIGO Y OBSERVAMOS LA INFORMACION POR MEDIO DE UN ARBOL DE DECISION.\n",
    "PRIMERO IMPORTAMOS LAS LIBRERIAS Y COMPROBAMOS LOS FICHEROS"
   ]
  },
  {
   "cell_type": "code",
   "execution_count": 1,
   "id": "49ec06b7-aa94-46e5-a512-45e76ba8daf8",
   "metadata": {
    "tags": []
   },
   "outputs": [],
   "source": [
    "import pandas as pd\n",
    "import numpy as np \n",
    "import matplotlib.pyplot as plt\n",
    "import seaborn as sns\n",
    "import os\n",
    "import graphviz\n",
    "from IPython.display import Image\n",
    "from sklearn import tree\n",
    "import pydotplus\n",
    "from sklearn.preprocessing import LabelEncoder\n",
    "from sklearn.tree import DecisionTreeClassifier, plot_tree\n",
    "from sklearn.model_selection import train_test_split\n",
    "from sklearn.metrics import precision_score"
   ]
  },
  {
   "cell_type": "raw",
   "id": "29de2f24-0acc-406d-9c12-36a14ee7ad01",
   "metadata": {},
   "source": [
    "CARGAMOS LOS DATOS EN DATAFRAMES Y BUSCAMOS LA RUTA PARA ACCEDER A LA INFORMACION DEL DATASET DEL COVID19.\n",
    "TAMBIEN DEFINIMOS LA VARIABLE.\n",
    "LUEGO BUSCAMOS Y OBSERVAMOS LOS PRIMEROS 5 DATOS DEL ARCHIVO DEL COVID19"
   ]
  },
  {
   "cell_type": "code",
   "execution_count": 2,
   "id": "3431fa48-61ea-4722-909c-97dbbf461e28",
   "metadata": {
    "tags": []
   },
   "outputs": [
    {
     "data": {
      "text/html": [
       "<div>\n",
       "<style scoped>\n",
       "    .dataframe tbody tr th:only-of-type {\n",
       "        vertical-align: middle;\n",
       "    }\n",
       "\n",
       "    .dataframe tbody tr th {\n",
       "        vertical-align: top;\n",
       "    }\n",
       "\n",
       "    .dataframe thead th {\n",
       "        text-align: right;\n",
       "    }\n",
       "</style>\n",
       "<table border=\"1\" class=\"dataframe\">\n",
       "  <thead>\n",
       "    <tr style=\"text-align: right;\">\n",
       "      <th></th>\n",
       "      <th>Fever</th>\n",
       "      <th>Tiredness</th>\n",
       "      <th>Dry-Cough</th>\n",
       "      <th>Difficulty-in-Breathing</th>\n",
       "      <th>Sore-Throat</th>\n",
       "      <th>None_Sympton</th>\n",
       "      <th>Pains</th>\n",
       "      <th>Nasal-Congestion</th>\n",
       "      <th>Runny-Nose</th>\n",
       "      <th>Diarrhea</th>\n",
       "      <th>...</th>\n",
       "      <th>Gender_Male</th>\n",
       "      <th>Gender_Transgender</th>\n",
       "      <th>Severity_Mild</th>\n",
       "      <th>Severity_Moderate</th>\n",
       "      <th>Severity_None</th>\n",
       "      <th>Severity_Severe</th>\n",
       "      <th>Contact_Dont-Know</th>\n",
       "      <th>Contact_No</th>\n",
       "      <th>Contact_Yes</th>\n",
       "      <th>Country</th>\n",
       "    </tr>\n",
       "  </thead>\n",
       "  <tbody>\n",
       "    <tr>\n",
       "      <th>0</th>\n",
       "      <td>1</td>\n",
       "      <td>1</td>\n",
       "      <td>1</td>\n",
       "      <td>1</td>\n",
       "      <td>1</td>\n",
       "      <td>0</td>\n",
       "      <td>1</td>\n",
       "      <td>1</td>\n",
       "      <td>1</td>\n",
       "      <td>1</td>\n",
       "      <td>...</td>\n",
       "      <td>1</td>\n",
       "      <td>0</td>\n",
       "      <td>1</td>\n",
       "      <td>0</td>\n",
       "      <td>0</td>\n",
       "      <td>0</td>\n",
       "      <td>0</td>\n",
       "      <td>0</td>\n",
       "      <td>1</td>\n",
       "      <td>China</td>\n",
       "    </tr>\n",
       "    <tr>\n",
       "      <th>1</th>\n",
       "      <td>1</td>\n",
       "      <td>1</td>\n",
       "      <td>1</td>\n",
       "      <td>1</td>\n",
       "      <td>1</td>\n",
       "      <td>0</td>\n",
       "      <td>1</td>\n",
       "      <td>1</td>\n",
       "      <td>1</td>\n",
       "      <td>1</td>\n",
       "      <td>...</td>\n",
       "      <td>1</td>\n",
       "      <td>0</td>\n",
       "      <td>1</td>\n",
       "      <td>0</td>\n",
       "      <td>0</td>\n",
       "      <td>0</td>\n",
       "      <td>0</td>\n",
       "      <td>1</td>\n",
       "      <td>0</td>\n",
       "      <td>China</td>\n",
       "    </tr>\n",
       "    <tr>\n",
       "      <th>2</th>\n",
       "      <td>1</td>\n",
       "      <td>1</td>\n",
       "      <td>1</td>\n",
       "      <td>1</td>\n",
       "      <td>1</td>\n",
       "      <td>0</td>\n",
       "      <td>1</td>\n",
       "      <td>1</td>\n",
       "      <td>1</td>\n",
       "      <td>1</td>\n",
       "      <td>...</td>\n",
       "      <td>1</td>\n",
       "      <td>0</td>\n",
       "      <td>1</td>\n",
       "      <td>0</td>\n",
       "      <td>0</td>\n",
       "      <td>0</td>\n",
       "      <td>1</td>\n",
       "      <td>0</td>\n",
       "      <td>0</td>\n",
       "      <td>China</td>\n",
       "    </tr>\n",
       "    <tr>\n",
       "      <th>3</th>\n",
       "      <td>1</td>\n",
       "      <td>1</td>\n",
       "      <td>1</td>\n",
       "      <td>1</td>\n",
       "      <td>1</td>\n",
       "      <td>0</td>\n",
       "      <td>1</td>\n",
       "      <td>1</td>\n",
       "      <td>1</td>\n",
       "      <td>1</td>\n",
       "      <td>...</td>\n",
       "      <td>1</td>\n",
       "      <td>0</td>\n",
       "      <td>0</td>\n",
       "      <td>1</td>\n",
       "      <td>0</td>\n",
       "      <td>0</td>\n",
       "      <td>0</td>\n",
       "      <td>0</td>\n",
       "      <td>1</td>\n",
       "      <td>China</td>\n",
       "    </tr>\n",
       "    <tr>\n",
       "      <th>4</th>\n",
       "      <td>1</td>\n",
       "      <td>1</td>\n",
       "      <td>1</td>\n",
       "      <td>1</td>\n",
       "      <td>1</td>\n",
       "      <td>0</td>\n",
       "      <td>1</td>\n",
       "      <td>1</td>\n",
       "      <td>1</td>\n",
       "      <td>1</td>\n",
       "      <td>...</td>\n",
       "      <td>1</td>\n",
       "      <td>0</td>\n",
       "      <td>0</td>\n",
       "      <td>1</td>\n",
       "      <td>0</td>\n",
       "      <td>0</td>\n",
       "      <td>0</td>\n",
       "      <td>1</td>\n",
       "      <td>0</td>\n",
       "      <td>China</td>\n",
       "    </tr>\n",
       "  </tbody>\n",
       "</table>\n",
       "<p>5 rows × 27 columns</p>\n",
       "</div>"
      ],
      "text/plain": [
       "   Fever  Tiredness  Dry-Cough  Difficulty-in-Breathing  Sore-Throat  \\\n",
       "0      1          1          1                        1            1   \n",
       "1      1          1          1                        1            1   \n",
       "2      1          1          1                        1            1   \n",
       "3      1          1          1                        1            1   \n",
       "4      1          1          1                        1            1   \n",
       "\n",
       "   None_Sympton  Pains  Nasal-Congestion  Runny-Nose  Diarrhea  ...  \\\n",
       "0             0      1                 1           1         1  ...   \n",
       "1             0      1                 1           1         1  ...   \n",
       "2             0      1                 1           1         1  ...   \n",
       "3             0      1                 1           1         1  ...   \n",
       "4             0      1                 1           1         1  ...   \n",
       "\n",
       "   Gender_Male  Gender_Transgender  Severity_Mild  Severity_Moderate  \\\n",
       "0            1                   0              1                  0   \n",
       "1            1                   0              1                  0   \n",
       "2            1                   0              1                  0   \n",
       "3            1                   0              0                  1   \n",
       "4            1                   0              0                  1   \n",
       "\n",
       "   Severity_None  Severity_Severe  Contact_Dont-Know  Contact_No  Contact_Yes  \\\n",
       "0              0                0                  0           0            1   \n",
       "1              0                0                  0           1            0   \n",
       "2              0                0                  1           0            0   \n",
       "3              0                0                  0           0            1   \n",
       "4              0                0                  0           1            0   \n",
       "\n",
       "   Country  \n",
       "0    China  \n",
       "1    China  \n",
       "2    China  \n",
       "3    China  \n",
       "4    China  \n",
       "\n",
       "[5 rows x 27 columns]"
      ]
     },
     "execution_count": 2,
     "metadata": {},
     "output_type": "execute_result"
    }
   ],
   "source": [
    "dataset = pd.read_csv(\"C:/Users/Maira/Downloads/FASE4_ANALISIS/archive/Cleaned-Data.csv\")\n",
    "dataset.head()"
   ]
  },
  {
   "cell_type": "code",
   "execution_count": 3,
   "id": "31d315b0-1b24-48a9-aa9a-8bac21d1d71f",
   "metadata": {
    "tags": []
   },
   "outputs": [
    {
     "name": "stdout",
     "output_type": "stream",
     "text": [
      "<class 'pandas.core.frame.DataFrame'>\n",
      "RangeIndex: 316800 entries, 0 to 316799\n",
      "Data columns (total 27 columns):\n",
      " #   Column                   Non-Null Count   Dtype \n",
      "---  ------                   --------------   ----- \n",
      " 0   Fever                    316800 non-null  int64 \n",
      " 1   Tiredness                316800 non-null  int64 \n",
      " 2   Dry-Cough                316800 non-null  int64 \n",
      " 3   Difficulty-in-Breathing  316800 non-null  int64 \n",
      " 4   Sore-Throat              316800 non-null  int64 \n",
      " 5   None_Sympton             316800 non-null  int64 \n",
      " 6   Pains                    316800 non-null  int64 \n",
      " 7   Nasal-Congestion         316800 non-null  int64 \n",
      " 8   Runny-Nose               316800 non-null  int64 \n",
      " 9   Diarrhea                 316800 non-null  int64 \n",
      " 10  None_Experiencing        316800 non-null  int64 \n",
      " 11  Age_0-9                  316800 non-null  int64 \n",
      " 12  Age_10-19                316800 non-null  int64 \n",
      " 13  Age_20-24                316800 non-null  int64 \n",
      " 14  Age_25-59                316800 non-null  int64 \n",
      " 15  Age_60+                  316800 non-null  int64 \n",
      " 16  Gender_Female            316800 non-null  int64 \n",
      " 17  Gender_Male              316800 non-null  int64 \n",
      " 18  Gender_Transgender       316800 non-null  int64 \n",
      " 19  Severity_Mild            316800 non-null  int64 \n",
      " 20  Severity_Moderate        316800 non-null  int64 \n",
      " 21  Severity_None            316800 non-null  int64 \n",
      " 22  Severity_Severe          316800 non-null  int64 \n",
      " 23  Contact_Dont-Know        316800 non-null  int64 \n",
      " 24  Contact_No               316800 non-null  int64 \n",
      " 25  Contact_Yes              316800 non-null  int64 \n",
      " 26  Country                  316800 non-null  object\n",
      "dtypes: int64(26), object(1)\n",
      "memory usage: 65.3+ MB\n"
     ]
    }
   ],
   "source": [
    "dataset.info ()"
   ]
  },
  {
   "cell_type": "raw",
   "id": "4dfef571-f6b1-4dd7-88e7-b3b094d8af7c",
   "metadata": {},
   "source": [
    "APLICAMOS LAS VARIABLES PREDICTORIAS Y LAS VARIABLES A PREDECIR.\n",
    "OBSERVAMOS LAS ESTADISTICAS GENERALES."
   ]
  },
  {
   "cell_type": "code",
   "execution_count": 4,
   "id": "fff95a29-3659-4c69-9cb3-9ab98f1377f1",
   "metadata": {
    "tags": []
   },
   "outputs": [
    {
     "data": {
      "text/html": [
       "<div>\n",
       "<style scoped>\n",
       "    .dataframe tbody tr th:only-of-type {\n",
       "        vertical-align: middle;\n",
       "    }\n",
       "\n",
       "    .dataframe tbody tr th {\n",
       "        vertical-align: top;\n",
       "    }\n",
       "\n",
       "    .dataframe thead th {\n",
       "        text-align: right;\n",
       "    }\n",
       "</style>\n",
       "<table border=\"1\" class=\"dataframe\">\n",
       "  <thead>\n",
       "    <tr style=\"text-align: right;\">\n",
       "      <th></th>\n",
       "      <th>Tiredness</th>\n",
       "      <th>Dry-Cough</th>\n",
       "      <th>Difficulty-in-Breathing</th>\n",
       "      <th>Sore-Throat</th>\n",
       "      <th>None_Sympton</th>\n",
       "      <th>Pains</th>\n",
       "      <th>Nasal-Congestion</th>\n",
       "      <th>Runny-Nose</th>\n",
       "      <th>Diarrhea</th>\n",
       "      <th>None_Experiencing</th>\n",
       "      <th>...</th>\n",
       "      <th>Gender_Male</th>\n",
       "      <th>Gender_Transgender</th>\n",
       "      <th>Severity_Mild</th>\n",
       "      <th>Severity_Moderate</th>\n",
       "      <th>Severity_None</th>\n",
       "      <th>Severity_Severe</th>\n",
       "      <th>Contact_Dont-Know</th>\n",
       "      <th>Contact_No</th>\n",
       "      <th>Contact_Yes</th>\n",
       "      <th>Country</th>\n",
       "    </tr>\n",
       "  </thead>\n",
       "  <tbody>\n",
       "    <tr>\n",
       "      <th>0</th>\n",
       "      <td>1</td>\n",
       "      <td>1</td>\n",
       "      <td>1</td>\n",
       "      <td>1</td>\n",
       "      <td>0</td>\n",
       "      <td>1</td>\n",
       "      <td>1</td>\n",
       "      <td>1</td>\n",
       "      <td>1</td>\n",
       "      <td>0</td>\n",
       "      <td>...</td>\n",
       "      <td>1</td>\n",
       "      <td>0</td>\n",
       "      <td>1</td>\n",
       "      <td>0</td>\n",
       "      <td>0</td>\n",
       "      <td>0</td>\n",
       "      <td>0</td>\n",
       "      <td>0</td>\n",
       "      <td>1</td>\n",
       "      <td>China</td>\n",
       "    </tr>\n",
       "    <tr>\n",
       "      <th>1</th>\n",
       "      <td>1</td>\n",
       "      <td>1</td>\n",
       "      <td>1</td>\n",
       "      <td>1</td>\n",
       "      <td>0</td>\n",
       "      <td>1</td>\n",
       "      <td>1</td>\n",
       "      <td>1</td>\n",
       "      <td>1</td>\n",
       "      <td>0</td>\n",
       "      <td>...</td>\n",
       "      <td>1</td>\n",
       "      <td>0</td>\n",
       "      <td>1</td>\n",
       "      <td>0</td>\n",
       "      <td>0</td>\n",
       "      <td>0</td>\n",
       "      <td>0</td>\n",
       "      <td>1</td>\n",
       "      <td>0</td>\n",
       "      <td>China</td>\n",
       "    </tr>\n",
       "    <tr>\n",
       "      <th>2</th>\n",
       "      <td>1</td>\n",
       "      <td>1</td>\n",
       "      <td>1</td>\n",
       "      <td>1</td>\n",
       "      <td>0</td>\n",
       "      <td>1</td>\n",
       "      <td>1</td>\n",
       "      <td>1</td>\n",
       "      <td>1</td>\n",
       "      <td>0</td>\n",
       "      <td>...</td>\n",
       "      <td>1</td>\n",
       "      <td>0</td>\n",
       "      <td>1</td>\n",
       "      <td>0</td>\n",
       "      <td>0</td>\n",
       "      <td>0</td>\n",
       "      <td>1</td>\n",
       "      <td>0</td>\n",
       "      <td>0</td>\n",
       "      <td>China</td>\n",
       "    </tr>\n",
       "    <tr>\n",
       "      <th>3</th>\n",
       "      <td>1</td>\n",
       "      <td>1</td>\n",
       "      <td>1</td>\n",
       "      <td>1</td>\n",
       "      <td>0</td>\n",
       "      <td>1</td>\n",
       "      <td>1</td>\n",
       "      <td>1</td>\n",
       "      <td>1</td>\n",
       "      <td>0</td>\n",
       "      <td>...</td>\n",
       "      <td>1</td>\n",
       "      <td>0</td>\n",
       "      <td>0</td>\n",
       "      <td>1</td>\n",
       "      <td>0</td>\n",
       "      <td>0</td>\n",
       "      <td>0</td>\n",
       "      <td>0</td>\n",
       "      <td>1</td>\n",
       "      <td>China</td>\n",
       "    </tr>\n",
       "    <tr>\n",
       "      <th>4</th>\n",
       "      <td>1</td>\n",
       "      <td>1</td>\n",
       "      <td>1</td>\n",
       "      <td>1</td>\n",
       "      <td>0</td>\n",
       "      <td>1</td>\n",
       "      <td>1</td>\n",
       "      <td>1</td>\n",
       "      <td>1</td>\n",
       "      <td>0</td>\n",
       "      <td>...</td>\n",
       "      <td>1</td>\n",
       "      <td>0</td>\n",
       "      <td>0</td>\n",
       "      <td>1</td>\n",
       "      <td>0</td>\n",
       "      <td>0</td>\n",
       "      <td>0</td>\n",
       "      <td>1</td>\n",
       "      <td>0</td>\n",
       "      <td>China</td>\n",
       "    </tr>\n",
       "  </tbody>\n",
       "</table>\n",
       "<p>5 rows × 26 columns</p>\n",
       "</div>"
      ],
      "text/plain": [
       "   Tiredness  Dry-Cough  Difficulty-in-Breathing  Sore-Throat  None_Sympton  \\\n",
       "0          1          1                        1            1             0   \n",
       "1          1          1                        1            1             0   \n",
       "2          1          1                        1            1             0   \n",
       "3          1          1                        1            1             0   \n",
       "4          1          1                        1            1             0   \n",
       "\n",
       "   Pains  Nasal-Congestion  Runny-Nose  Diarrhea  None_Experiencing  ...  \\\n",
       "0      1                 1           1         1                  0  ...   \n",
       "1      1                 1           1         1                  0  ...   \n",
       "2      1                 1           1         1                  0  ...   \n",
       "3      1                 1           1         1                  0  ...   \n",
       "4      1                 1           1         1                  0  ...   \n",
       "\n",
       "   Gender_Male  Gender_Transgender  Severity_Mild  Severity_Moderate  \\\n",
       "0            1                   0              1                  0   \n",
       "1            1                   0              1                  0   \n",
       "2            1                   0              1                  0   \n",
       "3            1                   0              0                  1   \n",
       "4            1                   0              0                  1   \n",
       "\n",
       "   Severity_None  Severity_Severe  Contact_Dont-Know  Contact_No  Contact_Yes  \\\n",
       "0              0                0                  0           0            1   \n",
       "1              0                0                  0           1            0   \n",
       "2              0                0                  1           0            0   \n",
       "3              0                0                  0           0            1   \n",
       "4              0                0                  0           1            0   \n",
       "\n",
       "   Country  \n",
       "0    China  \n",
       "1    China  \n",
       "2    China  \n",
       "3    China  \n",
       "4    China  \n",
       "\n",
       "[5 rows x 26 columns]"
      ]
     },
     "execution_count": 4,
     "metadata": {},
     "output_type": "execute_result"
    }
   ],
   "source": [
    "#VARIABLES PREDICTORIAS\n",
    "X = dataset.iloc[:,1:27]\n",
    "\n",
    "#VARIABLE A PREDECIR\n",
    "Y = dataset.iloc[:,0]\n",
    "\n",
    "#MOSTRAMOS LAS PRIMERAS 5 FILAS\n",
    "X.head()"
   ]
  },
  {
   "cell_type": "code",
   "execution_count": 5,
   "id": "f54d253d-f16f-472e-af02-06bbc6ca2142",
   "metadata": {
    "tags": []
   },
   "outputs": [],
   "source": [
    "from sklearn.model_selection import train_test_split\n",
    "\n",
    "# X_train y Y_train para entrenamiento\n",
    "# Y_test y Y_test para prueba\n",
    "X_train, X_test, Y_train, Y_test = train_test_split (X, Y, train_size = 0.2, random_state = 0)"
   ]
  },
  {
   "cell_type": "code",
   "execution_count": 6,
   "id": "86e33b5f-93e7-4b4f-883f-075ad3b85b28",
   "metadata": {
    "tags": []
   },
   "outputs": [
    {
     "name": "stdout",
     "output_type": "stream",
     "text": [
      "<class 'pandas.core.frame.DataFrame'>\n",
      "Int64Index: 63360 entries, 40596 to 305711\n",
      "Data columns (total 26 columns):\n",
      " #   Column                   Non-Null Count  Dtype \n",
      "---  ------                   --------------  ----- \n",
      " 0   Tiredness                63360 non-null  int64 \n",
      " 1   Dry-Cough                63360 non-null  int64 \n",
      " 2   Difficulty-in-Breathing  63360 non-null  int64 \n",
      " 3   Sore-Throat              63360 non-null  int64 \n",
      " 4   None_Sympton             63360 non-null  int64 \n",
      " 5   Pains                    63360 non-null  int64 \n",
      " 6   Nasal-Congestion         63360 non-null  int64 \n",
      " 7   Runny-Nose               63360 non-null  int64 \n",
      " 8   Diarrhea                 63360 non-null  int64 \n",
      " 9   None_Experiencing        63360 non-null  int64 \n",
      " 10  Age_0-9                  63360 non-null  int64 \n",
      " 11  Age_10-19                63360 non-null  int64 \n",
      " 12  Age_20-24                63360 non-null  int64 \n",
      " 13  Age_25-59                63360 non-null  int64 \n",
      " 14  Age_60+                  63360 non-null  int64 \n",
      " 15  Gender_Female            63360 non-null  int64 \n",
      " 16  Gender_Male              63360 non-null  int64 \n",
      " 17  Gender_Transgender       63360 non-null  int64 \n",
      " 18  Severity_Mild            63360 non-null  int64 \n",
      " 19  Severity_Moderate        63360 non-null  int64 \n",
      " 20  Severity_None            63360 non-null  int64 \n",
      " 21  Severity_Severe          63360 non-null  int64 \n",
      " 22  Contact_Dont-Know        63360 non-null  int64 \n",
      " 23  Contact_No               63360 non-null  int64 \n",
      " 24  Contact_Yes              63360 non-null  int64 \n",
      " 25  Country                  63360 non-null  object\n",
      "dtypes: int64(25), object(1)\n",
      "memory usage: 13.1+ MB\n"
     ]
    }
   ],
   "source": [
    "X_train.info()"
   ]
  },
  {
   "cell_type": "code",
   "execution_count": 7,
   "id": "6816c03f-ca20-46ff-853b-edea7e1fe878",
   "metadata": {
    "tags": []
   },
   "outputs": [],
   "source": [
    "dataset = pd.get_dummies(dataset, columns = [\"Country\"], prefix =\"Country\", drop_first = True)"
   ]
  },
  {
   "cell_type": "code",
   "execution_count": 8,
   "id": "cef39f3d-9807-4fd7-a0e2-11d9dc4b99cb",
   "metadata": {
    "tags": []
   },
   "outputs": [],
   "source": [
    "X = dataset.drop(\"Severity_Severe\", axis = 1) # SE EXCLUYE LA COLUMNA \"Severity_Severe\" como etiqueta\n",
    "Y = dataset[\"Severity_Severe\"]\n",
    "# SEPARAMOS LOS DATOS EN CARACTERISTICAS (X) Y ETIQUETAS (Y). "
   ]
  },
  {
   "cell_type": "code",
   "execution_count": 9,
   "id": "dd6e6e7e-e2ae-49fe-997f-49d69532fb32",
   "metadata": {
    "tags": []
   },
   "outputs": [],
   "source": [
    "X_train, X_test, Y_train, Y_test = train_test_split(X, Y, test_size = 0.2, random_state =42)"
   ]
  },
  {
   "cell_type": "code",
   "execution_count": 10,
   "id": "0932399a-5991-48bb-aade-dd150d572152",
   "metadata": {
    "tags": []
   },
   "outputs": [
    {
     "data": {
      "text/html": [
       "<style>#sk-container-id-1 {color: black;}#sk-container-id-1 pre{padding: 0;}#sk-container-id-1 div.sk-toggleable {background-color: white;}#sk-container-id-1 label.sk-toggleable__label {cursor: pointer;display: block;width: 100%;margin-bottom: 0;padding: 0.3em;box-sizing: border-box;text-align: center;}#sk-container-id-1 label.sk-toggleable__label-arrow:before {content: \"▸\";float: left;margin-right: 0.25em;color: #696969;}#sk-container-id-1 label.sk-toggleable__label-arrow:hover:before {color: black;}#sk-container-id-1 div.sk-estimator:hover label.sk-toggleable__label-arrow:before {color: black;}#sk-container-id-1 div.sk-toggleable__content {max-height: 0;max-width: 0;overflow: hidden;text-align: left;background-color: #f0f8ff;}#sk-container-id-1 div.sk-toggleable__content pre {margin: 0.2em;color: black;border-radius: 0.25em;background-color: #f0f8ff;}#sk-container-id-1 input.sk-toggleable__control:checked~div.sk-toggleable__content {max-height: 200px;max-width: 100%;overflow: auto;}#sk-container-id-1 input.sk-toggleable__control:checked~label.sk-toggleable__label-arrow:before {content: \"▾\";}#sk-container-id-1 div.sk-estimator input.sk-toggleable__control:checked~label.sk-toggleable__label {background-color: #d4ebff;}#sk-container-id-1 div.sk-label input.sk-toggleable__control:checked~label.sk-toggleable__label {background-color: #d4ebff;}#sk-container-id-1 input.sk-hidden--visually {border: 0;clip: rect(1px 1px 1px 1px);clip: rect(1px, 1px, 1px, 1px);height: 1px;margin: -1px;overflow: hidden;padding: 0;position: absolute;width: 1px;}#sk-container-id-1 div.sk-estimator {font-family: monospace;background-color: #f0f8ff;border: 1px dotted black;border-radius: 0.25em;box-sizing: border-box;margin-bottom: 0.5em;}#sk-container-id-1 div.sk-estimator:hover {background-color: #d4ebff;}#sk-container-id-1 div.sk-parallel-item::after {content: \"\";width: 100%;border-bottom: 1px solid gray;flex-grow: 1;}#sk-container-id-1 div.sk-label:hover label.sk-toggleable__label {background-color: #d4ebff;}#sk-container-id-1 div.sk-serial::before {content: \"\";position: absolute;border-left: 1px solid gray;box-sizing: border-box;top: 0;bottom: 0;left: 50%;z-index: 0;}#sk-container-id-1 div.sk-serial {display: flex;flex-direction: column;align-items: center;background-color: white;padding-right: 0.2em;padding-left: 0.2em;position: relative;}#sk-container-id-1 div.sk-item {position: relative;z-index: 1;}#sk-container-id-1 div.sk-parallel {display: flex;align-items: stretch;justify-content: center;background-color: white;position: relative;}#sk-container-id-1 div.sk-item::before, #sk-container-id-1 div.sk-parallel-item::before {content: \"\";position: absolute;border-left: 1px solid gray;box-sizing: border-box;top: 0;bottom: 0;left: 50%;z-index: -1;}#sk-container-id-1 div.sk-parallel-item {display: flex;flex-direction: column;z-index: 1;position: relative;background-color: white;}#sk-container-id-1 div.sk-parallel-item:first-child::after {align-self: flex-end;width: 50%;}#sk-container-id-1 div.sk-parallel-item:last-child::after {align-self: flex-start;width: 50%;}#sk-container-id-1 div.sk-parallel-item:only-child::after {width: 0;}#sk-container-id-1 div.sk-dashed-wrapped {border: 1px dashed gray;margin: 0 0.4em 0.5em 0.4em;box-sizing: border-box;padding-bottom: 0.4em;background-color: white;}#sk-container-id-1 div.sk-label label {font-family: monospace;font-weight: bold;display: inline-block;line-height: 1.2em;}#sk-container-id-1 div.sk-label-container {text-align: center;}#sk-container-id-1 div.sk-container {/* jupyter's `normalize.less` sets `[hidden] { display: none; }` but bootstrap.min.css set `[hidden] { display: none !important; }` so we also need the `!important` here to be able to override the default hidden behavior on the sphinx rendered scikit-learn.org. See: https://github.com/scikit-learn/scikit-learn/issues/21755 */display: inline-block !important;position: relative;}#sk-container-id-1 div.sk-text-repr-fallback {display: none;}</style><div id=\"sk-container-id-1\" class=\"sk-top-container\"><div class=\"sk-text-repr-fallback\"><pre>DecisionTreeClassifier(random_state=42)</pre><b>In a Jupyter environment, please rerun this cell to show the HTML representation or trust the notebook. <br />On GitHub, the HTML representation is unable to render, please try loading this page with nbviewer.org.</b></div><div class=\"sk-container\" hidden><div class=\"sk-item\"><div class=\"sk-estimator sk-toggleable\"><input class=\"sk-toggleable__control sk-hidden--visually\" id=\"sk-estimator-id-1\" type=\"checkbox\" checked><label for=\"sk-estimator-id-1\" class=\"sk-toggleable__label sk-toggleable__label-arrow\">DecisionTreeClassifier</label><div class=\"sk-toggleable__content\"><pre>DecisionTreeClassifier(random_state=42)</pre></div></div></div></div></div>"
      ],
      "text/plain": [
       "DecisionTreeClassifier(random_state=42)"
      ]
     },
     "execution_count": 10,
     "metadata": {},
     "output_type": "execute_result"
    }
   ],
   "source": [
    "#CREAR MODELO DE ARBOL DE DECISION\n",
    "model = DecisionTreeClassifier(random_state = 42)\n",
    "model.fit(X_train, Y_train)"
   ]
  },
  {
   "cell_type": "code",
   "execution_count": 11,
   "id": "b575db49-9806-469e-91a9-5f7d455b5b82",
   "metadata": {
    "tags": []
   },
   "outputs": [],
   "source": [
    "tree_rules = tree.export_text(model, feature_names = list(X.columns))"
   ]
  },
  {
   "cell_type": "code",
   "execution_count": 12,
   "id": "54a4041b-4ba3-4ebd-a4f0-396a55bfad23",
   "metadata": {
    "tags": []
   },
   "outputs": [],
   "source": [
    "# CREAMOS EL ARBOL DE DECISIONES DEL DATASET DEL TITANIC\n",
    "from sklearn.tree import DecisionTreeClassifier\n",
    "\n",
    "#Creamos instancia de DecisionTree\n",
    "decisiontree = DecisionTreeClassifier()"
   ]
  },
  {
   "cell_type": "raw",
   "id": "d98b9ed3-c163-46a4-90eb-18457e49ffc9",
   "metadata": {},
   "source": [
    "APLICAMOS LA FUNCION QUE RETORNA LA VISUALIZACION DEL ARBOL CON SUS RESPECTIVAS CLASES Y ATRIBUTOS."
   ]
  },
  {
   "cell_type": "code",
   "execution_count": 13,
   "id": "e80076f2-ac19-4df7-b41d-303c47ee3e2f",
   "metadata": {
    "tags": []
   },
   "outputs": [],
   "source": [
    "from sklearn import tree\n",
    "from graphviz import Source\n",
    "\n",
    "# APLICAMOS LA FUNCION QUE RETORNA LA VISUALIZACION DEL ARBOL.\n",
    "\n",
    "def plottree(decisiontree, features_names=None, class_names=None):\n",
    "    \"\"\"Returns a graphviz visualization of a scikit-learn decision tree\n",
    "    \n",
    "    Inputs\n",
    "        - decisiontree: tree to visualize\n",
    "        - feature_names: iterable with the names of the features present in the data.\n",
    "        - class_names: iterable with the names of the classes present in the data, in increasing order.\n",
    "        \n",
    "    If the call to this function is the last line of a notebook cell, the tree is rendered automatically.\n",
    "    \"\"\"\n",
    "    dot_data = tree.export_graphviz(\n",
    "        decisiontree, \n",
    "        out_file=None, \n",
    "        filled=True, \n",
    "        rounded=True, \n",
    "        rotate=True,\n",
    "        feature_names=features_names,\n",
    "        class_names=class_names\n",
    "    )\n",
    "    return Source(dot_data)"
   ]
  },
  {
   "cell_type": "code",
   "execution_count": 14,
   "id": "94f048df-943b-432f-96c9-c43fa0606402",
   "metadata": {
    "tags": []
   },
   "outputs": [
    {
     "data": {
      "text/html": [
       "<style>#sk-container-id-2 {color: black;}#sk-container-id-2 pre{padding: 0;}#sk-container-id-2 div.sk-toggleable {background-color: white;}#sk-container-id-2 label.sk-toggleable__label {cursor: pointer;display: block;width: 100%;margin-bottom: 0;padding: 0.3em;box-sizing: border-box;text-align: center;}#sk-container-id-2 label.sk-toggleable__label-arrow:before {content: \"▸\";float: left;margin-right: 0.25em;color: #696969;}#sk-container-id-2 label.sk-toggleable__label-arrow:hover:before {color: black;}#sk-container-id-2 div.sk-estimator:hover label.sk-toggleable__label-arrow:before {color: black;}#sk-container-id-2 div.sk-toggleable__content {max-height: 0;max-width: 0;overflow: hidden;text-align: left;background-color: #f0f8ff;}#sk-container-id-2 div.sk-toggleable__content pre {margin: 0.2em;color: black;border-radius: 0.25em;background-color: #f0f8ff;}#sk-container-id-2 input.sk-toggleable__control:checked~div.sk-toggleable__content {max-height: 200px;max-width: 100%;overflow: auto;}#sk-container-id-2 input.sk-toggleable__control:checked~label.sk-toggleable__label-arrow:before {content: \"▾\";}#sk-container-id-2 div.sk-estimator input.sk-toggleable__control:checked~label.sk-toggleable__label {background-color: #d4ebff;}#sk-container-id-2 div.sk-label input.sk-toggleable__control:checked~label.sk-toggleable__label {background-color: #d4ebff;}#sk-container-id-2 input.sk-hidden--visually {border: 0;clip: rect(1px 1px 1px 1px);clip: rect(1px, 1px, 1px, 1px);height: 1px;margin: -1px;overflow: hidden;padding: 0;position: absolute;width: 1px;}#sk-container-id-2 div.sk-estimator {font-family: monospace;background-color: #f0f8ff;border: 1px dotted black;border-radius: 0.25em;box-sizing: border-box;margin-bottom: 0.5em;}#sk-container-id-2 div.sk-estimator:hover {background-color: #d4ebff;}#sk-container-id-2 div.sk-parallel-item::after {content: \"\";width: 100%;border-bottom: 1px solid gray;flex-grow: 1;}#sk-container-id-2 div.sk-label:hover label.sk-toggleable__label {background-color: #d4ebff;}#sk-container-id-2 div.sk-serial::before {content: \"\";position: absolute;border-left: 1px solid gray;box-sizing: border-box;top: 0;bottom: 0;left: 50%;z-index: 0;}#sk-container-id-2 div.sk-serial {display: flex;flex-direction: column;align-items: center;background-color: white;padding-right: 0.2em;padding-left: 0.2em;position: relative;}#sk-container-id-2 div.sk-item {position: relative;z-index: 1;}#sk-container-id-2 div.sk-parallel {display: flex;align-items: stretch;justify-content: center;background-color: white;position: relative;}#sk-container-id-2 div.sk-item::before, #sk-container-id-2 div.sk-parallel-item::before {content: \"\";position: absolute;border-left: 1px solid gray;box-sizing: border-box;top: 0;bottom: 0;left: 50%;z-index: -1;}#sk-container-id-2 div.sk-parallel-item {display: flex;flex-direction: column;z-index: 1;position: relative;background-color: white;}#sk-container-id-2 div.sk-parallel-item:first-child::after {align-self: flex-end;width: 50%;}#sk-container-id-2 div.sk-parallel-item:last-child::after {align-self: flex-start;width: 50%;}#sk-container-id-2 div.sk-parallel-item:only-child::after {width: 0;}#sk-container-id-2 div.sk-dashed-wrapped {border: 1px dashed gray;margin: 0 0.4em 0.5em 0.4em;box-sizing: border-box;padding-bottom: 0.4em;background-color: white;}#sk-container-id-2 div.sk-label label {font-family: monospace;font-weight: bold;display: inline-block;line-height: 1.2em;}#sk-container-id-2 div.sk-label-container {text-align: center;}#sk-container-id-2 div.sk-container {/* jupyter's `normalize.less` sets `[hidden] { display: none; }` but bootstrap.min.css set `[hidden] { display: none !important; }` so we also need the `!important` here to be able to override the default hidden behavior on the sphinx rendered scikit-learn.org. See: https://github.com/scikit-learn/scikit-learn/issues/21755 */display: inline-block !important;position: relative;}#sk-container-id-2 div.sk-text-repr-fallback {display: none;}</style><div id=\"sk-container-id-2\" class=\"sk-top-container\"><div class=\"sk-text-repr-fallback\"><pre>DecisionTreeClassifier()</pre><b>In a Jupyter environment, please rerun this cell to show the HTML representation or trust the notebook. <br />On GitHub, the HTML representation is unable to render, please try loading this page with nbviewer.org.</b></div><div class=\"sk-container\" hidden><div class=\"sk-item\"><div class=\"sk-estimator sk-toggleable\"><input class=\"sk-toggleable__control sk-hidden--visually\" id=\"sk-estimator-id-2\" type=\"checkbox\" checked><label for=\"sk-estimator-id-2\" class=\"sk-toggleable__label sk-toggleable__label-arrow\">DecisionTreeClassifier</label><div class=\"sk-toggleable__content\"><pre>DecisionTreeClassifier()</pre></div></div></div></div></div>"
      ],
      "text/plain": [
       "DecisionTreeClassifier()"
      ]
     },
     "execution_count": 14,
     "metadata": {},
     "output_type": "execute_result"
    }
   ],
   "source": [
    "# ENTRENAMOS EL MODELO DEL ARBOL\n",
    "decisiontree = DecisionTreeClassifier()\n",
    "decisiontree.fit(X_train, Y_train)"
   ]
  },
  {
   "cell_type": "code",
   "execution_count": 15,
   "id": "9ec3ab17-867a-48fb-bbbb-da062f83d3ec",
   "metadata": {
    "tags": []
   },
   "outputs": [
    {
     "name": "stdout",
     "output_type": "stream",
     "text": [
      "Accuracy: 100.0\n"
     ]
    }
   ],
   "source": [
    "# BUSCAMOS PRECISAR LA INFORMACION SEGUN EL MODELO\n",
    "from sklearn.metrics import accuracy_score\n",
    "\n",
    "Y_pred = decisiontree.predict(X_test)\n",
    "decision_tree_model_acc = accuracy_score(Y_pred, Y_test) * 100\n",
    "print(\"Accuracy:\", decision_tree_model_acc)"
   ]
  },
  {
   "cell_type": "raw",
   "id": "44dbd37f-0de7-4f35-8ff1-667dc581b78d",
   "metadata": {},
   "source": [
    "AQUI PODEMOS OBSERVAR QUE 35.200 MUJERES TUVIERON CONTACTO CON EL VIRUS."
   ]
  },
  {
   "cell_type": "code",
   "execution_count": 26,
   "id": "87e6d641-4bc8-4145-b520-e227b0b30096",
   "metadata": {
    "tags": []
   },
   "outputs": [
    {
     "data": {
      "text/html": [
       "<div>\n",
       "<style scoped>\n",
       "    .dataframe tbody tr th:only-of-type {\n",
       "        vertical-align: middle;\n",
       "    }\n",
       "\n",
       "    .dataframe tbody tr th {\n",
       "        vertical-align: top;\n",
       "    }\n",
       "\n",
       "    .dataframe thead th {\n",
       "        text-align: right;\n",
       "    }\n",
       "</style>\n",
       "<table border=\"1\" class=\"dataframe\">\n",
       "  <thead>\n",
       "    <tr style=\"text-align: right;\">\n",
       "      <th></th>\n",
       "      <th>Gender_Female</th>\n",
       "    </tr>\n",
       "    <tr>\n",
       "      <th>Contact_Yes</th>\n",
       "      <th></th>\n",
       "    </tr>\n",
       "  </thead>\n",
       "  <tbody>\n",
       "    <tr>\n",
       "      <th>0</th>\n",
       "      <td>70400</td>\n",
       "    </tr>\n",
       "    <tr>\n",
       "      <th>1</th>\n",
       "      <td>35200</td>\n",
       "    </tr>\n",
       "  </tbody>\n",
       "</table>\n",
       "</div>"
      ],
      "text/plain": [
       "             Gender_Female\n",
       "Contact_Yes               \n",
       "0                    70400\n",
       "1                    35200"
      ]
     },
     "execution_count": 26,
     "metadata": {},
     "output_type": "execute_result"
    }
   ],
   "source": [
    "dataset[['Contact_Yes','Gender_Female']].groupby('Contact_Yes').sum()#.values.tolist()"
   ]
  },
  {
   "cell_type": "raw",
   "id": "124cd95d-282e-4b87-83e4-bfed3bcea53f",
   "metadata": {},
   "source": [
    "AQUI PODEMOS OBSERVAR QUE 42.240 HOMBRES MAYORES DE 60 AÑOS NO ADQUIRIERON EL VIRUS\n",
    "Y 21.120 SALIERON POSITIVOS PARA EL COVID19"
   ]
  },
  {
   "cell_type": "code",
   "execution_count": 30,
   "id": "416e6ade-6f7d-4a2d-8319-22faad9ec4fc",
   "metadata": {
    "tags": []
   },
   "outputs": [
    {
     "data": {
      "text/html": [
       "<div>\n",
       "<style scoped>\n",
       "    .dataframe tbody tr th:only-of-type {\n",
       "        vertical-align: middle;\n",
       "    }\n",
       "\n",
       "    .dataframe tbody tr th {\n",
       "        vertical-align: top;\n",
       "    }\n",
       "\n",
       "    .dataframe thead th {\n",
       "        text-align: right;\n",
       "    }\n",
       "</style>\n",
       "<table border=\"1\" class=\"dataframe\">\n",
       "  <thead>\n",
       "    <tr style=\"text-align: right;\">\n",
       "      <th></th>\n",
       "      <th>Age_60+</th>\n",
       "    </tr>\n",
       "    <tr>\n",
       "      <th>Gender_Male</th>\n",
       "      <th></th>\n",
       "    </tr>\n",
       "  </thead>\n",
       "  <tbody>\n",
       "    <tr>\n",
       "      <th>0</th>\n",
       "      <td>42240</td>\n",
       "    </tr>\n",
       "    <tr>\n",
       "      <th>1</th>\n",
       "      <td>21120</td>\n",
       "    </tr>\n",
       "  </tbody>\n",
       "</table>\n",
       "</div>"
      ],
      "text/plain": [
       "             Age_60+\n",
       "Gender_Male         \n",
       "0              42240\n",
       "1              21120"
      ]
     },
     "execution_count": 30,
     "metadata": {},
     "output_type": "execute_result"
    }
   ],
   "source": [
    "dataset[['Gender_Male','Age_60+']].groupby('Gender_Male').sum()#.values.tolist()"
   ]
  },
  {
   "cell_type": "code",
   "execution_count": 29,
   "id": "62713e3f-26e6-42a1-8b38-dd851d4de78b",
   "metadata": {
    "tags": []
   },
   "outputs": [
    {
     "data": {
      "image/svg+xml": [
       "<?xml version=\"1.0\" encoding=\"UTF-8\" standalone=\"no\"?>\n",
       "<!DOCTYPE svg PUBLIC \"-//W3C//DTD SVG 1.1//EN\"\n",
       " \"http://www.w3.org/Graphics/SVG/1.1/DTD/svg11.dtd\">\n",
       "<!-- Generated by graphviz version 2.50.0 (0)\n",
       " -->\n",
       "<!-- Title: Tree Pages: 1 -->\n",
       "<svg width=\"737pt\" height=\"260pt\"\n",
       " viewBox=\"0.00 0.00 737.00 260.00\" xmlns=\"http://www.w3.org/2000/svg\" xmlns:xlink=\"http://www.w3.org/1999/xlink\">\n",
       "<g id=\"graph0\" class=\"graph\" transform=\"scale(1 1) rotate(0) translate(4 256)\">\n",
       "<title>Tree</title>\n",
       "<polygon fill=\"white\" stroke=\"transparent\" points=\"-4,4 -4,-256 733,-256 733,4 -4,4\"/>\n",
       "<!-- 0 -->\n",
       "<g id=\"node1\" class=\"node\">\n",
       "<title>0</title>\n",
       "<path fill=\"#eeab7b\" stroke=\"black\" d=\"M150,-122.5C150,-122.5 12,-122.5 12,-122.5 6,-122.5 0,-116.5 0,-110.5 0,-110.5 0,-51.5 0,-51.5 0,-45.5 6,-39.5 12,-39.5 12,-39.5 150,-39.5 150,-39.5 156,-39.5 162,-45.5 162,-51.5 162,-51.5 162,-110.5 162,-110.5 162,-116.5 156,-122.5 150,-122.5\"/>\n",
       "<text text-anchor=\"middle\" x=\"81\" y=\"-107.3\" font-family=\"Helvetica,sans-Serif\" font-size=\"14.00\">Severity_None &lt;= 0.5</text>\n",
       "<text text-anchor=\"middle\" x=\"81\" y=\"-92.3\" font-family=\"Helvetica,sans-Serif\" font-size=\"14.00\">gini = 0.375</text>\n",
       "<text text-anchor=\"middle\" x=\"81\" y=\"-77.3\" font-family=\"Helvetica,sans-Serif\" font-size=\"14.00\">samples = 253440</text>\n",
       "<text text-anchor=\"middle\" x=\"81\" y=\"-62.3\" font-family=\"Helvetica,sans-Serif\" font-size=\"14.00\">value = [189959, 63481]</text>\n",
       "<text text-anchor=\"middle\" x=\"81\" y=\"-47.3\" font-family=\"Helvetica,sans-Serif\" font-size=\"14.00\">class = Not Severe</text>\n",
       "</g>\n",
       "<!-- 1 -->\n",
       "<g id=\"node2\" class=\"node\">\n",
       "<title>1</title>\n",
       "<path fill=\"#f2c09c\" stroke=\"black\" d=\"M359,-169.5C359,-169.5 210,-169.5 210,-169.5 204,-169.5 198,-163.5 198,-157.5 198,-157.5 198,-98.5 198,-98.5 198,-92.5 204,-86.5 210,-86.5 210,-86.5 359,-86.5 359,-86.5 365,-86.5 371,-92.5 371,-98.5 371,-98.5 371,-157.5 371,-157.5 371,-163.5 365,-169.5 359,-169.5\"/>\n",
       "<text text-anchor=\"middle\" x=\"284.5\" y=\"-154.3\" font-family=\"Helvetica,sans-Serif\" font-size=\"14.00\">Severity_Moderate &lt;= 0.5</text>\n",
       "<text text-anchor=\"middle\" x=\"284.5\" y=\"-139.3\" font-family=\"Helvetica,sans-Serif\" font-size=\"14.00\">gini = 0.445</text>\n",
       "<text text-anchor=\"middle\" x=\"284.5\" y=\"-124.3\" font-family=\"Helvetica,sans-Serif\" font-size=\"14.00\">samples = 189997</text>\n",
       "<text text-anchor=\"middle\" x=\"284.5\" y=\"-109.3\" font-family=\"Helvetica,sans-Serif\" font-size=\"14.00\">value = [126516, 63481]</text>\n",
       "<text text-anchor=\"middle\" x=\"284.5\" y=\"-94.3\" font-family=\"Helvetica,sans-Serif\" font-size=\"14.00\">class = Not Severe</text>\n",
       "</g>\n",
       "<!-- 0&#45;&gt;1 -->\n",
       "<g id=\"edge1\" class=\"edge\">\n",
       "<title>0&#45;&gt;1</title>\n",
       "<path fill=\"none\" stroke=\"black\" d=\"M162.22,-99.71C170.75,-101.7 179.49,-103.74 188.17,-105.76\"/>\n",
       "<polygon fill=\"black\" stroke=\"black\" points=\"187.4,-109.18 197.94,-108.04 188.99,-102.36 187.4,-109.18\"/>\n",
       "<text text-anchor=\"middle\" x=\"176.71\" y=\"-117.54\" font-family=\"Helvetica,sans-Serif\" font-size=\"14.00\">True</text>\n",
       "</g>\n",
       "<!-- 6 -->\n",
       "<g id=\"node7\" class=\"node\">\n",
       "<title>6</title>\n",
       "<path fill=\"#e58139\" stroke=\"black\" d=\"M338,-68C338,-68 231,-68 231,-68 225,-68 219,-62 219,-56 219,-56 219,-12 219,-12 219,-6 225,0 231,0 231,0 338,0 338,0 344,0 350,-6 350,-12 350,-12 350,-56 350,-56 350,-62 344,-68 338,-68\"/>\n",
       "<text text-anchor=\"middle\" x=\"284.5\" y=\"-52.8\" font-family=\"Helvetica,sans-Serif\" font-size=\"14.00\">gini = 0.0</text>\n",
       "<text text-anchor=\"middle\" x=\"284.5\" y=\"-37.8\" font-family=\"Helvetica,sans-Serif\" font-size=\"14.00\">samples = 63443</text>\n",
       "<text text-anchor=\"middle\" x=\"284.5\" y=\"-22.8\" font-family=\"Helvetica,sans-Serif\" font-size=\"14.00\">value = [63443, 0]</text>\n",
       "<text text-anchor=\"middle\" x=\"284.5\" y=\"-7.8\" font-family=\"Helvetica,sans-Serif\" font-size=\"14.00\">class = Not Severe</text>\n",
       "</g>\n",
       "<!-- 0&#45;&gt;6 -->\n",
       "<g id=\"edge6\" class=\"edge\">\n",
       "<title>0&#45;&gt;6</title>\n",
       "<path fill=\"none\" stroke=\"black\" d=\"M162.22,-62.29C177.61,-58.7 193.68,-54.95 208.88,-51.4\"/>\n",
       "<polygon fill=\"black\" stroke=\"black\" points=\"209.8,-54.79 218.74,-49.11 208.21,-47.97 209.8,-54.79\"/>\n",
       "<text text-anchor=\"middle\" x=\"197.51\" y=\"-32.21\" font-family=\"Helvetica,sans-Serif\" font-size=\"14.00\">False</text>\n",
       "</g>\n",
       "<!-- 2 -->\n",
       "<g id=\"node3\" class=\"node\">\n",
       "<title>2</title>\n",
       "<path fill=\"#feffff\" stroke=\"black\" d=\"M550,-216.5C550,-216.5 419,-216.5 419,-216.5 413,-216.5 407,-210.5 407,-204.5 407,-204.5 407,-145.5 407,-145.5 407,-139.5 413,-133.5 419,-133.5 419,-133.5 550,-133.5 550,-133.5 556,-133.5 562,-139.5 562,-145.5 562,-145.5 562,-204.5 562,-204.5 562,-210.5 556,-216.5 550,-216.5\"/>\n",
       "<text text-anchor=\"middle\" x=\"484.5\" y=\"-201.3\" font-family=\"Helvetica,sans-Serif\" font-size=\"14.00\">Severity_Mild &lt;= 0.5</text>\n",
       "<text text-anchor=\"middle\" x=\"484.5\" y=\"-186.3\" font-family=\"Helvetica,sans-Serif\" font-size=\"14.00\">gini = 0.5</text>\n",
       "<text text-anchor=\"middle\" x=\"484.5\" y=\"-171.3\" font-family=\"Helvetica,sans-Serif\" font-size=\"14.00\">samples = 126706</text>\n",
       "<text text-anchor=\"middle\" x=\"484.5\" y=\"-156.3\" font-family=\"Helvetica,sans-Serif\" font-size=\"14.00\">value = [63225, 63481]</text>\n",
       "<text text-anchor=\"middle\" x=\"484.5\" y=\"-141.3\" font-family=\"Helvetica,sans-Serif\" font-size=\"14.00\">class = Severe</text>\n",
       "</g>\n",
       "<!-- 1&#45;&gt;2 -->\n",
       "<g id=\"edge2\" class=\"edge\">\n",
       "<title>1&#45;&gt;2</title>\n",
       "<path fill=\"none\" stroke=\"black\" d=\"M371.19,-148.34C379.68,-150.36 388.3,-152.4 396.8,-154.42\"/>\n",
       "<polygon fill=\"black\" stroke=\"black\" points=\"396.17,-157.87 406.71,-156.77 397.79,-151.06 396.17,-157.87\"/>\n",
       "</g>\n",
       "<!-- 5 -->\n",
       "<g id=\"node6\" class=\"node\">\n",
       "<title>5</title>\n",
       "<path fill=\"#e58139\" stroke=\"black\" d=\"M538,-115C538,-115 431,-115 431,-115 425,-115 419,-109 419,-103 419,-103 419,-59 419,-59 419,-53 425,-47 431,-47 431,-47 538,-47 538,-47 544,-47 550,-53 550,-59 550,-59 550,-103 550,-103 550,-109 544,-115 538,-115\"/>\n",
       "<text text-anchor=\"middle\" x=\"484.5\" y=\"-99.8\" font-family=\"Helvetica,sans-Serif\" font-size=\"14.00\">gini = 0.0</text>\n",
       "<text text-anchor=\"middle\" x=\"484.5\" y=\"-84.8\" font-family=\"Helvetica,sans-Serif\" font-size=\"14.00\">samples = 63291</text>\n",
       "<text text-anchor=\"middle\" x=\"484.5\" y=\"-69.8\" font-family=\"Helvetica,sans-Serif\" font-size=\"14.00\">value = [63291, 0]</text>\n",
       "<text text-anchor=\"middle\" x=\"484.5\" y=\"-54.8\" font-family=\"Helvetica,sans-Serif\" font-size=\"14.00\">class = Not Severe</text>\n",
       "</g>\n",
       "<!-- 1&#45;&gt;5 -->\n",
       "<g id=\"edge5\" class=\"edge\">\n",
       "<title>1&#45;&gt;5</title>\n",
       "<path fill=\"none\" stroke=\"black\" d=\"M371.19,-107.66C383.81,-104.66 396.72,-101.6 409.09,-98.66\"/>\n",
       "<polygon fill=\"black\" stroke=\"black\" points=\"409.95,-102.06 418.87,-96.34 408.33,-95.25 409.95,-102.06\"/>\n",
       "</g>\n",
       "<!-- 3 -->\n",
       "<g id=\"node4\" class=\"node\">\n",
       "<title>3</title>\n",
       "<path fill=\"#399de5\" stroke=\"black\" d=\"M714,-252C714,-252 613,-252 613,-252 607,-252 601,-246 601,-240 601,-240 601,-196 601,-196 601,-190 607,-184 613,-184 613,-184 714,-184 714,-184 720,-184 726,-190 726,-196 726,-196 726,-240 726,-240 726,-246 720,-252 714,-252\"/>\n",
       "<text text-anchor=\"middle\" x=\"663.5\" y=\"-236.8\" font-family=\"Helvetica,sans-Serif\" font-size=\"14.00\">gini = 0.0</text>\n",
       "<text text-anchor=\"middle\" x=\"663.5\" y=\"-221.8\" font-family=\"Helvetica,sans-Serif\" font-size=\"14.00\">samples = 63481</text>\n",
       "<text text-anchor=\"middle\" x=\"663.5\" y=\"-206.8\" font-family=\"Helvetica,sans-Serif\" font-size=\"14.00\">value = [0, 63481]</text>\n",
       "<text text-anchor=\"middle\" x=\"663.5\" y=\"-191.8\" font-family=\"Helvetica,sans-Serif\" font-size=\"14.00\">class = Severe</text>\n",
       "</g>\n",
       "<!-- 2&#45;&gt;3 -->\n",
       "<g id=\"edge3\" class=\"edge\">\n",
       "<title>2&#45;&gt;3</title>\n",
       "<path fill=\"none\" stroke=\"black\" d=\"M562.11,-193.61C571.74,-195.95 581.57,-198.34 591.13,-200.66\"/>\n",
       "<polygon fill=\"black\" stroke=\"black\" points=\"590.42,-204.09 600.96,-203.05 592.07,-197.29 590.42,-204.09\"/>\n",
       "</g>\n",
       "<!-- 4 -->\n",
       "<g id=\"node5\" class=\"node\">\n",
       "<title>4</title>\n",
       "<path fill=\"#e58139\" stroke=\"black\" d=\"M717,-166C717,-166 610,-166 610,-166 604,-166 598,-160 598,-154 598,-154 598,-110 598,-110 598,-104 604,-98 610,-98 610,-98 717,-98 717,-98 723,-98 729,-104 729,-110 729,-110 729,-154 729,-154 729,-160 723,-166 717,-166\"/>\n",
       "<text text-anchor=\"middle\" x=\"663.5\" y=\"-150.8\" font-family=\"Helvetica,sans-Serif\" font-size=\"14.00\">gini = 0.0</text>\n",
       "<text text-anchor=\"middle\" x=\"663.5\" y=\"-135.8\" font-family=\"Helvetica,sans-Serif\" font-size=\"14.00\">samples = 63225</text>\n",
       "<text text-anchor=\"middle\" x=\"663.5\" y=\"-120.8\" font-family=\"Helvetica,sans-Serif\" font-size=\"14.00\">value = [63225, 0]</text>\n",
       "<text text-anchor=\"middle\" x=\"663.5\" y=\"-105.8\" font-family=\"Helvetica,sans-Serif\" font-size=\"14.00\">class = Not Severe</text>\n",
       "</g>\n",
       "<!-- 2&#45;&gt;4 -->\n",
       "<g id=\"edge4\" class=\"edge\">\n",
       "<title>2&#45;&gt;4</title>\n",
       "<path fill=\"none\" stroke=\"black\" d=\"M562.11,-156.39C570.7,-154.3 579.45,-152.18 588.02,-150.09\"/>\n",
       "<polygon fill=\"black\" stroke=\"black\" points=\"589.08,-153.44 597.97,-147.68 587.43,-146.64 589.08,-153.44\"/>\n",
       "</g>\n",
       "</g>\n",
       "</svg>\n"
      ],
      "text/plain": [
       "<graphviz.sources.Source at 0x143a99846d0>"
      ]
     },
     "execution_count": 29,
     "metadata": {},
     "output_type": "execute_result"
    }
   ],
   "source": [
    "# AQUI SE GENERA EL ARBOL DE DECISION DEL DATASET DEL COVID19\n",
    "#Show the generated tree\n",
    "plottree(decisiontree, features_names=X_train.columns, class_names=[\"Not Severe\", \"Severe\"])"
   ]
  },
  {
   "cell_type": "code",
   "execution_count": null,
   "id": "68259feb-bd05-47d7-b170-f736e9385a44",
   "metadata": {},
   "outputs": [],
   "source": []
  }
 ],
 "metadata": {
  "kernelspec": {
   "display_name": "Python 3 (ipykernel)",
   "language": "python",
   "name": "python3"
  },
  "language_info": {
   "codemirror_mode": {
    "name": "ipython",
    "version": 3
   },
   "file_extension": ".py",
   "mimetype": "text/x-python",
   "name": "python",
   "nbconvert_exporter": "python",
   "pygments_lexer": "ipython3",
   "version": "3.11.5"
  }
 },
 "nbformat": 4,
 "nbformat_minor": 5
}
